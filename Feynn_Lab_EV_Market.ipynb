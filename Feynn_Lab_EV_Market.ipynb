{
 "cells": [
  {
   "cell_type": "markdown",
   "id": "edb5db2c",
   "metadata": {},
   "source": [
    "# EV Bikes Market"
   ]
  },
  {
   "cell_type": "code",
   "execution_count": 30,
   "id": "9f8adb8a",
   "metadata": {},
   "outputs": [],
   "source": [
    "import numpy as np\n",
    "import pandas as pd\n",
    "import matplotlib.pyplot as plt\n",
    "import seaborn as sns\n",
    "from sklearn.model_selection import train_test_split\n",
    "from sklearn.preprocessing import StandardScaler\n",
    "from sklearn.decomposition import PCA\n",
    "from sklearn.cluster import KMeans"
   ]
  },
  {
   "cell_type": "code",
   "execution_count": 31,
   "id": "141e764c",
   "metadata": {},
   "outputs": [],
   "source": [
    "df_bikes=pd.read_csv('new_bikes.csv')"
   ]
  },
  {
   "cell_type": "code",
   "execution_count": 32,
   "id": "9a5f8539",
   "metadata": {},
   "outputs": [
    {
     "data": {
      "text/plain": [
       "(53, 11)"
      ]
     },
     "execution_count": 32,
     "metadata": {},
     "output_type": "execute_result"
    }
   ],
   "source": [
    "df_bikes.shape"
   ]
  },
  {
   "cell_type": "code",
   "execution_count": 33,
   "id": "84de6cfc",
   "metadata": {},
   "outputs": [
    {
     "data": {
      "text/plain": [
       "Index(['Unnamed: 0', 'Model', 'Manufacturer', 'Vehicle Type',\n",
       "       'Battery Capacity (kWh)', 'Range per Charge (km)', 'Charging Time',\n",
       "       'Price', 'Power (HP or kW)', 'Top Speed (km/h)', 'Year of Manufacture'],\n",
       "      dtype='object')"
      ]
     },
     "execution_count": 33,
     "metadata": {},
     "output_type": "execute_result"
    }
   ],
   "source": [
    "df_bikes.columns"
   ]
  },
  {
   "cell_type": "code",
   "execution_count": 34,
   "id": "be8ee547",
   "metadata": {},
   "outputs": [
    {
     "data": {
      "text/html": [
       "<div>\n",
       "<style scoped>\n",
       "    .dataframe tbody tr th:only-of-type {\n",
       "        vertical-align: middle;\n",
       "    }\n",
       "\n",
       "    .dataframe tbody tr th {\n",
       "        vertical-align: top;\n",
       "    }\n",
       "\n",
       "    .dataframe thead th {\n",
       "        text-align: right;\n",
       "    }\n",
       "</style>\n",
       "<table border=\"1\" class=\"dataframe\">\n",
       "  <thead>\n",
       "    <tr style=\"text-align: right;\">\n",
       "      <th></th>\n",
       "      <th>Unnamed: 0</th>\n",
       "      <th>Model</th>\n",
       "      <th>Manufacturer</th>\n",
       "      <th>Vehicle Type</th>\n",
       "      <th>Battery Capacity (kWh)</th>\n",
       "      <th>Range per Charge (km)</th>\n",
       "      <th>Charging Time</th>\n",
       "      <th>Price</th>\n",
       "      <th>Power (HP or kW)</th>\n",
       "      <th>Top Speed (km/h)</th>\n",
       "      <th>Year of Manufacture</th>\n",
       "    </tr>\n",
       "  </thead>\n",
       "  <tbody>\n",
       "    <tr>\n",
       "      <th>11</th>\n",
       "      <td>11</td>\n",
       "      <td>Ather 450X</td>\n",
       "      <td>Ather Energy</td>\n",
       "      <td>Scooter</td>\n",
       "      <td>2.9</td>\n",
       "      <td>116</td>\n",
       "      <td>4.5</td>\n",
       "      <td>149000.0</td>\n",
       "      <td>6.0</td>\n",
       "      <td>80.0</td>\n",
       "      <td>2021.0</td>\n",
       "    </tr>\n",
       "    <tr>\n",
       "      <th>20</th>\n",
       "      <td>20</td>\n",
       "      <td>Hero Electric Opto EV</td>\n",
       "      <td>Hero Motocorp</td>\n",
       "      <td>Scooter</td>\n",
       "      <td>2.2</td>\n",
       "      <td>75</td>\n",
       "      <td>3.0</td>\n",
       "      <td>75000.0</td>\n",
       "      <td>3.0</td>\n",
       "      <td>60.0</td>\n",
       "      <td>2021.0</td>\n",
       "    </tr>\n",
       "    <tr>\n",
       "      <th>47</th>\n",
       "      <td>47</td>\n",
       "      <td>Urbanite X2</td>\n",
       "      <td>Electric Vehicle Co.</td>\n",
       "      <td>Scooter</td>\n",
       "      <td>3.2</td>\n",
       "      <td>130</td>\n",
       "      <td>4.0</td>\n",
       "      <td>110000.0</td>\n",
       "      <td>5.0</td>\n",
       "      <td>80.0</td>\n",
       "      <td>2022.0</td>\n",
       "    </tr>\n",
       "    <tr>\n",
       "      <th>39</th>\n",
       "      <td>39</td>\n",
       "      <td>Okinawa iPraise Pro</td>\n",
       "      <td>Okinawa Autotech</td>\n",
       "      <td>Scooter</td>\n",
       "      <td>2.5</td>\n",
       "      <td>100</td>\n",
       "      <td>3.0</td>\n",
       "      <td>85000.0</td>\n",
       "      <td>3.0</td>\n",
       "      <td>60.0</td>\n",
       "      <td>2021.0</td>\n",
       "    </tr>\n",
       "    <tr>\n",
       "      <th>25</th>\n",
       "      <td>25</td>\n",
       "      <td>Joy e-Ride</td>\n",
       "      <td>Joy E-Bike</td>\n",
       "      <td>Bike</td>\n",
       "      <td>2.2</td>\n",
       "      <td>80</td>\n",
       "      <td>2.5</td>\n",
       "      <td>60000.0</td>\n",
       "      <td>2.0</td>\n",
       "      <td>50.0</td>\n",
       "      <td>2021.0</td>\n",
       "    </tr>\n",
       "  </tbody>\n",
       "</table>\n",
       "</div>"
      ],
      "text/plain": [
       "    Unnamed: 0                  Model          Manufacturer Vehicle Type  \\\n",
       "11          11             Ather 450X          Ather Energy      Scooter   \n",
       "20          20  Hero Electric Opto EV         Hero Motocorp      Scooter   \n",
       "47          47            Urbanite X2  Electric Vehicle Co.      Scooter   \n",
       "39          39    Okinawa iPraise Pro      Okinawa Autotech      Scooter   \n",
       "25          25             Joy e-Ride            Joy E-Bike         Bike   \n",
       "\n",
       "    Battery Capacity (kWh)  Range per Charge (km)  Charging Time     Price  \\\n",
       "11                     2.9                    116            4.5  149000.0   \n",
       "20                     2.2                     75            3.0   75000.0   \n",
       "47                     3.2                    130            4.0  110000.0   \n",
       "39                     2.5                    100            3.0   85000.0   \n",
       "25                     2.2                     80            2.5   60000.0   \n",
       "\n",
       "    Power (HP or kW)  Top Speed (km/h)  Year of Manufacture  \n",
       "11               6.0              80.0               2021.0  \n",
       "20               3.0              60.0               2021.0  \n",
       "47               5.0              80.0               2022.0  \n",
       "39               3.0              60.0               2021.0  \n",
       "25               2.0              50.0               2021.0  "
      ]
     },
     "execution_count": 34,
     "metadata": {},
     "output_type": "execute_result"
    }
   ],
   "source": [
    "df_bikes.sample(5)"
   ]
  },
  {
   "cell_type": "markdown",
   "id": "20a89202",
   "metadata": {},
   "source": [
    "# Exploratory Data Analysis"
   ]
  },
  {
   "cell_type": "code",
   "execution_count": 35,
   "id": "483b9e3b",
   "metadata": {},
   "outputs": [
    {
     "name": "stdout",
     "output_type": "stream",
     "text": [
      "<class 'pandas.core.frame.DataFrame'>\n",
      "RangeIndex: 53 entries, 0 to 52\n",
      "Data columns (total 11 columns):\n",
      " #   Column                  Non-Null Count  Dtype  \n",
      "---  ------                  --------------  -----  \n",
      " 0   Unnamed: 0              53 non-null     int64  \n",
      " 1   Model                   53 non-null     object \n",
      " 2   Manufacturer            53 non-null     object \n",
      " 3   Vehicle Type            53 non-null     object \n",
      " 4   Battery Capacity (kWh)  53 non-null     float64\n",
      " 5   Range per Charge (km)   53 non-null     int64  \n",
      " 6   Charging Time           52 non-null     float64\n",
      " 7   Price                   52 non-null     float64\n",
      " 8   Power (HP or kW)        52 non-null     float64\n",
      " 9   Top Speed (km/h)        52 non-null     float64\n",
      " 10  Year of Manufacture     52 non-null     float64\n",
      "dtypes: float64(6), int64(2), object(3)\n",
      "memory usage: 4.7+ KB\n"
     ]
    }
   ],
   "source": [
    "df_bikes.info()"
   ]
  },
  {
   "cell_type": "code",
   "execution_count": 36,
   "id": "32863bb8",
   "metadata": {},
   "outputs": [],
   "source": [
    "null_mask=df_bikes.isnull().any(axis=1)\n",
    "df_bikes=df_bikes[null_mask==False]"
   ]
  },
  {
   "cell_type": "code",
   "execution_count": 37,
   "id": "bfa0f6e3",
   "metadata": {},
   "outputs": [
    {
     "name": "stdout",
     "output_type": "stream",
     "text": [
      "<class 'pandas.core.frame.DataFrame'>\n",
      "Index: 52 entries, 0 to 51\n",
      "Data columns (total 11 columns):\n",
      " #   Column                  Non-Null Count  Dtype  \n",
      "---  ------                  --------------  -----  \n",
      " 0   Unnamed: 0              52 non-null     int64  \n",
      " 1   Model                   52 non-null     object \n",
      " 2   Manufacturer            52 non-null     object \n",
      " 3   Vehicle Type            52 non-null     object \n",
      " 4   Battery Capacity (kWh)  52 non-null     float64\n",
      " 5   Range per Charge (km)   52 non-null     int64  \n",
      " 6   Charging Time           52 non-null     float64\n",
      " 7   Price                   52 non-null     float64\n",
      " 8   Power (HP or kW)        52 non-null     float64\n",
      " 9   Top Speed (km/h)        52 non-null     float64\n",
      " 10  Year of Manufacture     52 non-null     float64\n",
      "dtypes: float64(6), int64(2), object(3)\n",
      "memory usage: 4.9+ KB\n"
     ]
    }
   ],
   "source": [
    "df_bikes.info()"
   ]
  },
  {
   "cell_type": "code",
   "execution_count": 38,
   "id": "202f0848",
   "metadata": {},
   "outputs": [
    {
     "data": {
      "text/plain": [
       "Vehicle Type\n",
       "Scooter    41\n",
       "Bike       11\n",
       "Name: count, dtype: int64"
      ]
     },
     "execution_count": 38,
     "metadata": {},
     "output_type": "execute_result"
    }
   ],
   "source": [
    "df_bikes['Vehicle Type'].value_counts()"
   ]
  },
  {
   "cell_type": "code",
   "execution_count": 39,
   "id": "a7e9437c",
   "metadata": {},
   "outputs": [
    {
     "data": {
      "image/png": "[encoded data removed]",
      "text/plain": [
       "<Figure size 640x480 with 1 Axes>"
      ]
     },
     "metadata": {},
     "output_type": "display_data"
    }
   ],
   "source": [
    "x = df_bikes['Year of Manufacture'].value_counts().plot.pie()\n",
    "plt.pie(x=[1],radius=0.001,colors='white')\n",
    "plt.title(label='Electric 2 Wheelers Year of Manufacute India')\n",
    "plt.ylabel('')\n",
    "plt.show()"
   ]
  },
  {
   "cell_type": "code",
   "execution_count": 40,
   "id": "0cb8399a",
   "metadata": {},
   "outputs": [
    {
     "data": {
      "image/png": "[encoded data removed]",
      "text/plain": [
       "<Figure size 640x480 with 1 Axes>"
      ]
     },
     "metadata": {},
     "output_type": "display_data"
    }
   ],
   "source": [
    "plt.plot(df_bikes['Price'])\n",
    "plt.xlabel('Number of Samples')\n",
    "plt.ylabel('Price')\n",
    "plt.title('Price Comparison');"
   ]
  },
  {
   "cell_type": "markdown",
   "id": "8d6473a4",
   "metadata": {},
   "source": [
    "# Segmentation"
   ]
  },
  {
   "cell_type": "code",
   "execution_count": 41,
   "id": "0dab5d9c",
   "metadata": {},
   "outputs": [],
   "source": [
    "df=df_bikes\n",
    "df1=df_bikes\n",
    "df['Vehicle Type'].replace(to_replace=['Scooter','Bike'],value=[0, 1], inplace=True)"
   ]
  },
  {
   "cell_type": "code",
   "execution_count": 42,
   "id": "eee725e0",
   "metadata": {},
   "outputs": [
    {
     "data": {
      "text/plain": [
       "Index(['Unnamed: 0', 'Model', 'Manufacturer', 'Vehicle Type',\n",
       "       'Battery Capacity (kWh)', 'Range per Charge (km)', 'Charging Time',\n",
       "       'Price', 'Power (HP or kW)', 'Top Speed (km/h)', 'Year of Manufacture'],\n",
       "      dtype='object')"
      ]
     },
     "execution_count": 42,
     "metadata": {},
     "output_type": "execute_result"
    }
   ],
   "source": [
    "df.columns"
   ]
  },
  {
   "cell_type": "code",
   "execution_count": 43,
   "id": "24e3da90",
   "metadata": {},
   "outputs": [],
   "source": [
    "df=df.drop(['Unnamed: 0', 'Model', 'Manufacturer'],axis=1)"
   ]
  },
  {
   "cell_type": "code",
   "execution_count": 44,
   "id": "33cea576",
   "metadata": {},
   "outputs": [
    {
     "data": {
      "text/html": [
       "<div>\n",
       "<style scoped>\n",
       "    .dataframe tbody tr th:only-of-type {\n",
       "        vertical-align: middle;\n",
       "    }\n",
       "\n",
       "    .dataframe tbody tr th {\n",
       "        vertical-align: top;\n",
       "    }\n",
       "\n",
       "    .dataframe thead th {\n",
       "        text-align: right;\n",
       "    }\n",
       "</style>\n",
       "<table border=\"1\" class=\"dataframe\">\n",
       "  <thead>\n",
       "    <tr style=\"text-align: right;\">\n",
       "      <th></th>\n",
       "      <th>Vehicle Type</th>\n",
       "      <th>Battery Capacity (kWh)</th>\n",
       "      <th>Range per Charge (km)</th>\n",
       "      <th>Charging Time</th>\n",
       "      <th>Price</th>\n",
       "      <th>Power (HP or kW)</th>\n",
       "      <th>Top Speed (km/h)</th>\n",
       "      <th>Year of Manufacture</th>\n",
       "    </tr>\n",
       "  </thead>\n",
       "  <tbody>\n",
       "    <tr>\n",
       "      <th>0</th>\n",
       "      <td>0</td>\n",
       "      <td>2.98</td>\n",
       "      <td>181</td>\n",
       "      <td>5.0</td>\n",
       "      <td>85099.0</td>\n",
       "      <td>4.5</td>\n",
       "      <td>116.0</td>\n",
       "      <td>2021.0</td>\n",
       "    </tr>\n",
       "    <tr>\n",
       "      <th>1</th>\n",
       "      <td>0</td>\n",
       "      <td>4.00</td>\n",
       "      <td>181</td>\n",
       "      <td>6.5</td>\n",
       "      <td>120149.0</td>\n",
       "      <td>11.0</td>\n",
       "      <td>116.0</td>\n",
       "      <td>2021.0</td>\n",
       "    </tr>\n",
       "    <tr>\n",
       "      <th>2</th>\n",
       "      <td>0</td>\n",
       "      <td>3.40</td>\n",
       "      <td>75</td>\n",
       "      <td>6.5</td>\n",
       "      <td>117630.0</td>\n",
       "      <td>4.4</td>\n",
       "      <td>78.0</td>\n",
       "      <td>2020.0</td>\n",
       "    </tr>\n",
       "    <tr>\n",
       "      <th>3</th>\n",
       "      <td>0</td>\n",
       "      <td>2.90</td>\n",
       "      <td>116</td>\n",
       "      <td>4.5</td>\n",
       "      <td>129000.0</td>\n",
       "      <td>6.0</td>\n",
       "      <td>80.0</td>\n",
       "      <td>2021.0</td>\n",
       "    </tr>\n",
       "    <tr>\n",
       "      <th>4</th>\n",
       "      <td>0</td>\n",
       "      <td>2.70</td>\n",
       "      <td>120</td>\n",
       "      <td>3.0</td>\n",
       "      <td>109000.0</td>\n",
       "      <td>5.0</td>\n",
       "      <td>80.0</td>\n",
       "      <td>2021.0</td>\n",
       "    </tr>\n",
       "  </tbody>\n",
       "</table>\n",
       "</div>"
      ],
      "text/plain": [
       "   Vehicle Type  Battery Capacity (kWh)  Range per Charge (km)  Charging Time  \\\n",
       "0             0                    2.98                    181            5.0   \n",
       "1             0                    4.00                    181            6.5   \n",
       "2             0                    3.40                     75            6.5   \n",
       "3             0                    2.90                    116            4.5   \n",
       "4             0                    2.70                    120            3.0   \n",
       "\n",
       "      Price  Power (HP or kW)  Top Speed (km/h)  Year of Manufacture  \n",
       "0   85099.0               4.5             116.0               2021.0  \n",
       "1  120149.0              11.0             116.0               2021.0  \n",
       "2  117630.0               4.4              78.0               2020.0  \n",
       "3  129000.0               6.0              80.0               2021.0  \n",
       "4  109000.0               5.0              80.0               2021.0  "
      ]
     },
     "execution_count": 44,
     "metadata": {},
     "output_type": "execute_result"
    }
   ],
   "source": [
    "df.head()"
   ]
  },
  {
   "cell_type": "code",
   "execution_count": 45,
   "id": "58ffca91",
   "metadata": {},
   "outputs": [
    {
     "data": {
      "text/html": [
       "<style type=\"text/css\">\n",
       "#T_b10df_row0_col0, #T_b10df_row1_col1, #T_b10df_row2_col2, #T_b10df_row3_col3, #T_b10df_row4_col4, #T_b10df_row5_col5, #T_b10df_row6_col6, #T_b10df_row7_col7 {\n",
       "  background-color: #5e4fa2;\n",
       "  color: #f1f1f1;\n",
       "}\n",
       "#T_b10df_row0_col1, #T_b10df_row6_col7 {\n",
       "  background-color: #fcaa5f;\n",
       "  color: #000000;\n",
       "}\n",
       "#T_b10df_row0_col2 {\n",
       "  background-color: #c72e4c;\n",
       "  color: #f1f1f1;\n",
       "}\n",
       "#T_b10df_row0_col3 {\n",
       "  background-color: #d43d4f;\n",
       "  color: #f1f1f1;\n",
       "}\n",
       "#T_b10df_row0_col4, #T_b10df_row3_col5 {\n",
       "  background-color: #fecc7b;\n",
       "  color: #000000;\n",
       "}\n",
       "#T_b10df_row0_col5 {\n",
       "  background-color: #b8e2a1;\n",
       "  color: #000000;\n",
       "}\n",
       "#T_b10df_row0_col6, #T_b10df_row3_col0, #T_b10df_row3_col7, #T_b10df_row7_col1, #T_b10df_row7_col2, #T_b10df_row7_col3, #T_b10df_row7_col4, #T_b10df_row7_col5 {\n",
       "  background-color: #9e0142;\n",
       "  color: #f1f1f1;\n",
       "}\n",
       "#T_b10df_row0_col7 {\n",
       "  background-color: #f88c51;\n",
       "  color: #f1f1f1;\n",
       "}\n",
       "#T_b10df_row1_col0, #T_b10df_row4_col0 {\n",
       "  background-color: #fed07e;\n",
       "  color: #000000;\n",
       "}\n",
       "#T_b10df_row1_col2, #T_b10df_row4_col3 {\n",
       "  background-color: #9fd8a4;\n",
       "  color: #000000;\n",
       "}\n",
       "#T_b10df_row1_col3 {\n",
       "  background-color: #99d6a4;\n",
       "  color: #000000;\n",
       "}\n",
       "#T_b10df_row1_col4 {\n",
       "  background-color: #3b92b9;\n",
       "  color: #f1f1f1;\n",
       "}\n",
       "#T_b10df_row1_col5 {\n",
       "  background-color: #b5e1a2;\n",
       "  color: #000000;\n",
       "}\n",
       "#T_b10df_row1_col6 {\n",
       "  background-color: #edf8a3;\n",
       "  color: #000000;\n",
       "}\n",
       "#T_b10df_row1_col7 {\n",
       "  background-color: #f26944;\n",
       "  color: #f1f1f1;\n",
       "}\n",
       "#T_b10df_row2_col0 {\n",
       "  background-color: #fdc171;\n",
       "  color: #000000;\n",
       "}\n",
       "#T_b10df_row2_col1 {\n",
       "  background-color: #76c8a5;\n",
       "  color: #000000;\n",
       "}\n",
       "#T_b10df_row2_col3 {\n",
       "  background-color: #cfec9d;\n",
       "  color: #000000;\n",
       "}\n",
       "#T_b10df_row2_col4 {\n",
       "  background-color: #71c6a5;\n",
       "  color: #000000;\n",
       "}\n",
       "#T_b10df_row2_col5 {\n",
       "  background-color: #8cd1a4;\n",
       "  color: #000000;\n",
       "}\n",
       "#T_b10df_row2_col6 {\n",
       "  background-color: #3d95b8;\n",
       "  color: #f1f1f1;\n",
       "}\n",
       "#T_b10df_row2_col7 {\n",
       "  background-color: #fec877;\n",
       "  color: #000000;\n",
       "}\n",
       "#T_b10df_row3_col1 {\n",
       "  background-color: #c3e79f;\n",
       "  color: #000000;\n",
       "}\n",
       "#T_b10df_row3_col2 {\n",
       "  background-color: #feeda1;\n",
       "  color: #000000;\n",
       "}\n",
       "#T_b10df_row3_col4 {\n",
       "  background-color: #b3e0a2;\n",
       "  color: #000000;\n",
       "}\n",
       "#T_b10df_row3_col6 {\n",
       "  background-color: #daf09a;\n",
       "  color: #000000;\n",
       "}\n",
       "#T_b10df_row4_col1 {\n",
       "  background-color: #4199b6;\n",
       "  color: #f1f1f1;\n",
       "}\n",
       "#T_b10df_row4_col2, #T_b10df_row5_col0 {\n",
       "  background-color: #aadca4;\n",
       "  color: #000000;\n",
       "}\n",
       "#T_b10df_row4_col5 {\n",
       "  background-color: #6ec5a5;\n",
       "  color: #000000;\n",
       "}\n",
       "#T_b10df_row4_col6 {\n",
       "  background-color: #d3ed9c;\n",
       "  color: #000000;\n",
       "}\n",
       "#T_b10df_row4_col7 {\n",
       "  background-color: #d8434e;\n",
       "  color: #f1f1f1;\n",
       "}\n",
       "#T_b10df_row5_col1 {\n",
       "  background-color: #bfe5a0;\n",
       "  color: #000000;\n",
       "}\n",
       "#T_b10df_row5_col2 {\n",
       "  background-color: #bce4a0;\n",
       "  color: #000000;\n",
       "}\n",
       "#T_b10df_row5_col3 {\n",
       "  background-color: #fff3ac;\n",
       "  color: #000000;\n",
       "}\n",
       "#T_b10df_row5_col4 {\n",
       "  background-color: #66c2a5;\n",
       "  color: #000000;\n",
       "}\n",
       "#T_b10df_row5_col6 {\n",
       "  background-color: #f2faaa;\n",
       "  color: #000000;\n",
       "}\n",
       "#T_b10df_row5_col7 {\n",
       "  background-color: #e85b48;\n",
       "  color: #f1f1f1;\n",
       "}\n",
       "#T_b10df_row6_col0 {\n",
       "  background-color: #ea5e47;\n",
       "  color: #f1f1f1;\n",
       "}\n",
       "#T_b10df_row6_col1, #T_b10df_row6_col5 {\n",
       "  background-color: #e4f498;\n",
       "  color: #000000;\n",
       "}\n",
       "#T_b10df_row6_col2 {\n",
       "  background-color: #47a0b3;\n",
       "  color: #f1f1f1;\n",
       "}\n",
       "#T_b10df_row6_col3 {\n",
       "  background-color: #a2d9a4;\n",
       "  color: #000000;\n",
       "}\n",
       "#T_b10df_row6_col4 {\n",
       "  background-color: #b1dfa3;\n",
       "  color: #000000;\n",
       "}\n",
       "#T_b10df_row7_col0 {\n",
       "  background-color: #e95c47;\n",
       "  color: #f1f1f1;\n",
       "}\n",
       "#T_b10df_row7_col6 {\n",
       "  background-color: #ba2049;\n",
       "  color: #f1f1f1;\n",
       "}\n",
       "</style>\n",
       "<table id=\"T_b10df\">\n",
       "  <thead>\n",
       "    <tr>\n",
       "      <th class=\"blank level0\" >&nbsp;</th>\n",
       "      <th id=\"T_b10df_level0_col0\" class=\"col_heading level0 col0\" >Vehicle Type</th>\n",
       "      <th id=\"T_b10df_level0_col1\" class=\"col_heading level0 col1\" >Battery Capacity (kWh)</th>\n",
       "      <th id=\"T_b10df_level0_col2\" class=\"col_heading level0 col2\" >Range per Charge (km)</th>\n",
       "      <th id=\"T_b10df_level0_col3\" class=\"col_heading level0 col3\" >Charging Time</th>\n",
       "      <th id=\"T_b10df_level0_col4\" class=\"col_heading level0 col4\" >Price</th>\n",
       "      <th id=\"T_b10df_level0_col5\" class=\"col_heading level0 col5\" >Power (HP or kW)</th>\n",
       "      <th id=\"T_b10df_level0_col6\" class=\"col_heading level0 col6\" >Top Speed (km/h)</th>\n",
       "      <th id=\"T_b10df_level0_col7\" class=\"col_heading level0 col7\" >Year of Manufacture</th>\n",
       "    </tr>\n",
       "  </thead>\n",
       "  <tbody>\n",
       "    <tr>\n",
       "      <th id=\"T_b10df_level0_row0\" class=\"row_heading level0 row0\" >Vehicle Type</th>\n",
       "      <td id=\"T_b10df_row0_col0\" class=\"data row0 col0\" >1.000000</td>\n",
       "      <td id=\"T_b10df_row0_col1\" class=\"data row0 col1\" >0.320543</td>\n",
       "      <td id=\"T_b10df_row0_col2\" class=\"data row0 col2\" >0.286497</td>\n",
       "      <td id=\"T_b10df_row0_col3\" class=\"data row0 col3\" >-0.076636</td>\n",
       "      <td id=\"T_b10df_row0_col4\" class=\"data row0 col4\" >0.318706</td>\n",
       "      <td id=\"T_b10df_row0_col5\" class=\"data row0 col5\" >0.676764</td>\n",
       "      <td id=\"T_b10df_row0_col6\" class=\"data row0 col6\" >0.108007</td>\n",
       "      <td id=\"T_b10df_row0_col7\" class=\"data row0 col7\" >0.101519</td>\n",
       "    </tr>\n",
       "    <tr>\n",
       "      <th id=\"T_b10df_level0_row1\" class=\"row_heading level0 row1\" >Battery Capacity (kWh)</th>\n",
       "      <td id=\"T_b10df_row1_col0\" class=\"data row1 col0\" >0.320543</td>\n",
       "      <td id=\"T_b10df_row1_col1\" class=\"data row1 col1\" >1.000000</td>\n",
       "      <td id=\"T_b10df_row1_col2\" class=\"data row1 col2\" >0.782845</td>\n",
       "      <td id=\"T_b10df_row1_col3\" class=\"data row1 col3\" >0.671725</td>\n",
       "      <td id=\"T_b10df_row1_col4\" class=\"data row1 col4\" >0.874510</td>\n",
       "      <td id=\"T_b10df_row1_col5\" class=\"data row1 col5\" >0.679582</td>\n",
       "      <td id=\"T_b10df_row1_col6\" class=\"data row1 col6\" >0.620106</td>\n",
       "      <td id=\"T_b10df_row1_col7\" class=\"data row1 col7\" >0.037480</td>\n",
       "    </tr>\n",
       "    <tr>\n",
       "      <th id=\"T_b10df_level0_row2\" class=\"row_heading level0 row2\" >Range per Charge (km)</th>\n",
       "      <td id=\"T_b10df_row2_col0\" class=\"data row2 col0\" >0.286497</td>\n",
       "      <td id=\"T_b10df_row2_col1\" class=\"data row2 col1\" >0.782845</td>\n",
       "      <td id=\"T_b10df_row2_col2\" class=\"data row2 col2\" >1.000000</td>\n",
       "      <td id=\"T_b10df_row2_col3\" class=\"data row2 col3\" >0.569228</td>\n",
       "      <td id=\"T_b10df_row2_col4\" class=\"data row2 col4\" >0.768037</td>\n",
       "      <td id=\"T_b10df_row2_col5\" class=\"data row2 col5\" >0.745132</td>\n",
       "      <td id=\"T_b10df_row2_col6\" class=\"data row2 col6\" >0.890465</td>\n",
       "      <td id=\"T_b10df_row2_col7\" class=\"data row2 col7\" >0.228106</td>\n",
       "    </tr>\n",
       "    <tr>\n",
       "      <th id=\"T_b10df_level0_row3\" class=\"row_heading level0 row3\" >Charging Time</th>\n",
       "      <td id=\"T_b10df_row3_col0\" class=\"data row3 col0\" >-0.076636</td>\n",
       "      <td id=\"T_b10df_row3_col1\" class=\"data row3 col1\" >0.671725</td>\n",
       "      <td id=\"T_b10df_row3_col2\" class=\"data row3 col2\" >0.569228</td>\n",
       "      <td id=\"T_b10df_row3_col3\" class=\"data row3 col3\" >1.000000</td>\n",
       "      <td id=\"T_b10df_row3_col4\" class=\"data row3 col4\" >0.663869</td>\n",
       "      <td id=\"T_b10df_row3_col5\" class=\"data row3 col5\" >0.360537</td>\n",
       "      <td id=\"T_b10df_row3_col6\" class=\"data row3 col6\" >0.658871</td>\n",
       "      <td id=\"T_b10df_row3_col7\" class=\"data row3 col7\" >-0.194250</td>\n",
       "    </tr>\n",
       "    <tr>\n",
       "      <th id=\"T_b10df_level0_row4\" class=\"row_heading level0 row4\" >Price</th>\n",
       "      <td id=\"T_b10df_row4_col0\" class=\"data row4 col0\" >0.318706</td>\n",
       "      <td id=\"T_b10df_row4_col1\" class=\"data row4 col1\" >0.874510</td>\n",
       "      <td id=\"T_b10df_row4_col2\" class=\"data row4 col2\" >0.768037</td>\n",
       "      <td id=\"T_b10df_row4_col3\" class=\"data row4 col3\" >0.663869</td>\n",
       "      <td id=\"T_b10df_row4_col4\" class=\"data row4 col4\" >1.000000</td>\n",
       "      <td id=\"T_b10df_row4_col5\" class=\"data row4 col5\" >0.786668</td>\n",
       "      <td id=\"T_b10df_row4_col6\" class=\"data row4 col6\" >0.669637</td>\n",
       "      <td id=\"T_b10df_row4_col7\" class=\"data row4 col7\" >-0.063526</td>\n",
       "    </tr>\n",
       "    <tr>\n",
       "      <th id=\"T_b10df_level0_row5\" class=\"row_heading level0 row5\" >Power (HP or kW)</th>\n",
       "      <td id=\"T_b10df_row5_col0\" class=\"data row5 col0\" >0.676764</td>\n",
       "      <td id=\"T_b10df_row5_col1\" class=\"data row5 col1\" >0.679582</td>\n",
       "      <td id=\"T_b10df_row5_col2\" class=\"data row5 col2\" >0.745132</td>\n",
       "      <td id=\"T_b10df_row5_col3\" class=\"data row5 col3\" >0.360537</td>\n",
       "      <td id=\"T_b10df_row5_col4\" class=\"data row5 col4\" >0.786668</td>\n",
       "      <td id=\"T_b10df_row5_col5\" class=\"data row5 col5\" >1.000000</td>\n",
       "      <td id=\"T_b10df_row5_col6\" class=\"data row5 col6\" >0.600609</td>\n",
       "      <td id=\"T_b10df_row5_col7\" class=\"data row5 col7\" >-0.002850</td>\n",
       "    </tr>\n",
       "    <tr>\n",
       "      <th id=\"T_b10df_level0_row6\" class=\"row_heading level0 row6\" >Top Speed (km/h)</th>\n",
       "      <td id=\"T_b10df_row6_col0\" class=\"data row6 col0\" >0.108007</td>\n",
       "      <td id=\"T_b10df_row6_col1\" class=\"data row6 col1\" >0.620106</td>\n",
       "      <td id=\"T_b10df_row6_col2\" class=\"data row6 col2\" >0.890465</td>\n",
       "      <td id=\"T_b10df_row6_col3\" class=\"data row6 col3\" >0.658871</td>\n",
       "      <td id=\"T_b10df_row6_col4\" class=\"data row6 col4\" >0.669637</td>\n",
       "      <td id=\"T_b10df_row6_col5\" class=\"data row6 col5\" >0.600609</td>\n",
       "      <td id=\"T_b10df_row6_col6\" class=\"data row6 col6\" >1.000000</td>\n",
       "      <td id=\"T_b10df_row6_col7\" class=\"data row6 col7\" >0.156641</td>\n",
       "    </tr>\n",
       "    <tr>\n",
       "      <th id=\"T_b10df_level0_row7\" class=\"row_heading level0 row7\" >Year of Manufacture</th>\n",
       "      <td id=\"T_b10df_row7_col0\" class=\"data row7 col0\" >0.101519</td>\n",
       "      <td id=\"T_b10df_row7_col1\" class=\"data row7 col1\" >0.037480</td>\n",
       "      <td id=\"T_b10df_row7_col2\" class=\"data row7 col2\" >0.228106</td>\n",
       "      <td id=\"T_b10df_row7_col3\" class=\"data row7 col3\" >-0.194250</td>\n",
       "      <td id=\"T_b10df_row7_col4\" class=\"data row7 col4\" >-0.063526</td>\n",
       "      <td id=\"T_b10df_row7_col5\" class=\"data row7 col5\" >-0.002850</td>\n",
       "      <td id=\"T_b10df_row7_col6\" class=\"data row7 col6\" >0.156641</td>\n",
       "      <td id=\"T_b10df_row7_col7\" class=\"data row7 col7\" >1.000000</td>\n",
       "    </tr>\n",
       "  </tbody>\n",
       "</table>\n"
      ],
      "text/plain": [
       "<pandas.io.formats.style.Styler at 0x7ba25cf89450>"
      ]
     },
     "execution_count": 45,
     "metadata": {},
     "output_type": "execute_result"
    }
   ],
   "source": [
    "corr = df.corr()\n",
    "corr.style.background_gradient(cmap='Spectral')"
   ]
  },
  {
   "cell_type": "markdown",
   "id": "32083761",
   "metadata": {},
   "source": [
    "# PCA"
   ]
  },
  {
   "cell_type": "code",
   "execution_count": 46,
   "id": "55ab6199",
   "metadata": {},
   "outputs": [],
   "source": [
    "scaler=StandardScaler()\n",
    "df_scale = scaler.fit_transform(df)"
   ]
  },
  {
   "cell_type": "code",
   "execution_count": 47,
   "id": "ea1812e7",
   "metadata": {},
   "outputs": [
    {
     "data": {
      "text/plain": [
       "array([0.5753801 , 0.17063963, 0.13710548, 0.05144504, 0.03372341,\n",
       "       0.01806882, 0.00882305, 0.00481448])"
      ]
     },
     "execution_count": 47,
     "metadata": {},
     "output_type": "execute_result"
    }
   ],
   "source": [
    "pca = PCA(random_state=42)   \n",
    "pca.fit_transform(df_scale) \n",
    "pca.explained_variance_ratio_"
   ]
  },
  {
   "cell_type": "code",
   "execution_count": 48,
   "id": "39aace2b",
   "metadata": {},
   "outputs": [],
   "source": [
    "df_pca = pca.transform(df_scale)"
   ]
  },
  {
   "cell_type": "code",
   "execution_count": 49,
   "id": "46f827f1",
   "metadata": {},
   "outputs": [],
   "source": [
    "df_pca = pd.DataFrame(df_pca, columns = [f'PC{x +1}' for x in range(len(df.columns))])"
   ]
  },
  {
   "cell_type": "code",
   "execution_count": 50,
   "id": "c47dec3d",
   "metadata": {},
   "outputs": [
    {
     "data": {
      "text/html": [
       "<div>\n",
       "<style scoped>\n",
       "    .dataframe tbody tr th:only-of-type {\n",
       "        vertical-align: middle;\n",
       "    }\n",
       "\n",
       "    .dataframe tbody tr th {\n",
       "        vertical-align: top;\n",
       "    }\n",
       "\n",
       "    .dataframe thead th {\n",
       "        text-align: right;\n",
       "    }\n",
       "</style>\n",
       "<table border=\"1\" class=\"dataframe\">\n",
       "  <thead>\n",
       "    <tr style=\"text-align: right;\">\n",
       "      <th></th>\n",
       "      <th>PC1</th>\n",
       "      <th>PC2</th>\n",
       "      <th>PC3</th>\n",
       "      <th>PC4</th>\n",
       "      <th>PC5</th>\n",
       "      <th>PC6</th>\n",
       "      <th>PC7</th>\n",
       "      <th>PC8</th>\n",
       "    </tr>\n",
       "  </thead>\n",
       "  <tbody>\n",
       "    <tr>\n",
       "      <th>0</th>\n",
       "      <td>1.503101</td>\n",
       "      <td>1.425148</td>\n",
       "      <td>-1.328903</td>\n",
       "      <td>2.213913</td>\n",
       "      <td>0.835666</td>\n",
       "      <td>1.050070</td>\n",
       "      <td>0.157514</td>\n",
       "      <td>-0.115156</td>\n",
       "    </tr>\n",
       "    <tr>\n",
       "      <th>1</th>\n",
       "      <td>3.169533</td>\n",
       "      <td>1.915105</td>\n",
       "      <td>-0.903501</td>\n",
       "      <td>1.324738</td>\n",
       "      <td>1.142895</td>\n",
       "      <td>0.537148</td>\n",
       "      <td>-0.442735</td>\n",
       "      <td>0.268217</td>\n",
       "    </tr>\n",
       "    <tr>\n",
       "      <th>2</th>\n",
       "      <td>0.018467</td>\n",
       "      <td>2.703396</td>\n",
       "      <td>1.944021</td>\n",
       "      <td>-0.255680</td>\n",
       "      <td>1.495986</td>\n",
       "      <td>-0.330913</td>\n",
       "      <td>0.006035</td>\n",
       "      <td>0.656926</td>\n",
       "    </tr>\n",
       "    <tr>\n",
       "      <th>3</th>\n",
       "      <td>0.031777</td>\n",
       "      <td>0.861620</td>\n",
       "      <td>0.045307</td>\n",
       "      <td>0.220340</td>\n",
       "      <td>0.169558</td>\n",
       "      <td>-0.409491</td>\n",
       "      <td>0.093709</td>\n",
       "      <td>-0.010947</td>\n",
       "    </tr>\n",
       "    <tr>\n",
       "      <th>4</th>\n",
       "      <td>-0.725688</td>\n",
       "      <td>0.164433</td>\n",
       "      <td>-0.120884</td>\n",
       "      <td>0.751736</td>\n",
       "      <td>-0.593667</td>\n",
       "      <td>0.115340</td>\n",
       "      <td>0.293262</td>\n",
       "      <td>0.077771</td>\n",
       "    </tr>\n",
       "  </tbody>\n",
       "</table>\n",
       "</div>"
      ],
      "text/plain": [
       "        PC1       PC2       PC3       PC4       PC5       PC6       PC7  \\\n",
       "0  1.503101  1.425148 -1.328903  2.213913  0.835666  1.050070  0.157514   \n",
       "1  3.169533  1.915105 -0.903501  1.324738  1.142895  0.537148 -0.442735   \n",
       "2  0.018467  2.703396  1.944021 -0.255680  1.495986 -0.330913  0.006035   \n",
       "3  0.031777  0.861620  0.045307  0.220340  0.169558 -0.409491  0.093709   \n",
       "4 -0.725688  0.164433 -0.120884  0.751736 -0.593667  0.115340  0.293262   \n",
       "\n",
       "        PC8  \n",
       "0 -0.115156  \n",
       "1  0.268217  \n",
       "2  0.656926  \n",
       "3 -0.010947  \n",
       "4  0.077771  "
      ]
     },
     "execution_count": 50,
     "metadata": {},
     "output_type": "execute_result"
    }
   ],
   "source": [
    "df_pca.head()"
   ]
  },
  {
   "cell_type": "code",
   "execution_count": 51,
   "id": "becf5dcc",
   "metadata": {},
   "outputs": [
    {
     "data": {
      "image/png": "[encoded data removed]",
      "text/plain": [
       "<Figure size 640x480 with 1 Axes>"
      ]
     },
     "metadata": {},
     "output_type": "display_data"
    }
   ],
   "source": [
    "plt.bar(df_pca.columns, pca.explained_variance_ratio_)\n",
    "plt.title('Explained variance by principal components')\n",
    "plt.xlabel('Principal components')\n",
    "plt.ylabel('Variance ratios')\n",
    "plt.show()"
   ]
  },
  {
   "cell_type": "code",
   "execution_count": 52,
   "id": "2e99b8a1",
   "metadata": {},
   "outputs": [],
   "source": [
    "pca_summary = pd.DataFrame({'Standard Deviation':df_pca.std(),\n",
    "                           'Proportion of Variance': pca.explained_variance_ratio_,\n",
    "                           'Cumultive Proportion': pca.explained_variance_ratio_.cumsum()})"
   ]
  },
  {
   "cell_type": "code",
   "execution_count": 53,
   "id": "db279560",
   "metadata": {},
   "outputs": [
    {
     "data": {
      "text/html": [
       "<div>\n",
       "<style scoped>\n",
       "    .dataframe tbody tr th:only-of-type {\n",
       "        vertical-align: middle;\n",
       "    }\n",
       "\n",
       "    .dataframe tbody tr th {\n",
       "        vertical-align: top;\n",
       "    }\n",
       "\n",
       "    .dataframe thead th {\n",
       "        text-align: right;\n",
       "    }\n",
       "</style>\n",
       "<table border=\"1\" class=\"dataframe\">\n",
       "  <thead>\n",
       "    <tr style=\"text-align: right;\">\n",
       "      <th></th>\n",
       "      <th>Standard Deviation</th>\n",
       "      <th>Proportion of Variance</th>\n",
       "      <th>Cumultive Proportion</th>\n",
       "    </tr>\n",
       "  </thead>\n",
       "  <tbody>\n",
       "    <tr>\n",
       "      <th>PC1</th>\n",
       "      <td>2.166402</td>\n",
       "      <td>0.575380</td>\n",
       "      <td>0.575380</td>\n",
       "    </tr>\n",
       "    <tr>\n",
       "      <th>PC2</th>\n",
       "      <td>1.179781</td>\n",
       "      <td>0.170640</td>\n",
       "      <td>0.746020</td>\n",
       "    </tr>\n",
       "    <tr>\n",
       "      <th>PC3</th>\n",
       "      <td>1.057521</td>\n",
       "      <td>0.137105</td>\n",
       "      <td>0.883125</td>\n",
       "    </tr>\n",
       "    <tr>\n",
       "      <th>PC4</th>\n",
       "      <td>0.647789</td>\n",
       "      <td>0.051445</td>\n",
       "      <td>0.934570</td>\n",
       "    </tr>\n",
       "    <tr>\n",
       "      <th>PC5</th>\n",
       "      <td>0.524478</td>\n",
       "      <td>0.033723</td>\n",
       "      <td>0.968294</td>\n",
       "    </tr>\n",
       "    <tr>\n",
       "      <th>PC6</th>\n",
       "      <td>0.383907</td>\n",
       "      <td>0.018069</td>\n",
       "      <td>0.986362</td>\n",
       "    </tr>\n",
       "    <tr>\n",
       "      <th>PC7</th>\n",
       "      <td>0.268269</td>\n",
       "      <td>0.008823</td>\n",
       "      <td>0.995186</td>\n",
       "    </tr>\n",
       "    <tr>\n",
       "      <th>PC8</th>\n",
       "      <td>0.198169</td>\n",
       "      <td>0.004814</td>\n",
       "      <td>1.000000</td>\n",
       "    </tr>\n",
       "  </tbody>\n",
       "</table>\n",
       "</div>"
      ],
      "text/plain": [
       "     Standard Deviation  Proportion of Variance  Cumultive Proportion\n",
       "PC1            2.166402                0.575380              0.575380\n",
       "PC2            1.179781                0.170640              0.746020\n",
       "PC3            1.057521                0.137105              0.883125\n",
       "PC4            0.647789                0.051445              0.934570\n",
       "PC5            0.524478                0.033723              0.968294\n",
       "PC6            0.383907                0.018069              0.986362\n",
       "PC7            0.268269                0.008823              0.995186\n",
       "PC8            0.198169                0.004814              1.000000"
      ]
     },
     "execution_count": 53,
     "metadata": {},
     "output_type": "execute_result"
    }
   ],
   "source": [
    "pca_summary"
   ]
  },
  {
   "cell_type": "code",
   "execution_count": 54,
   "id": "94627514",
   "metadata": {},
   "outputs": [
    {
     "data": {
      "text/html": [
       "<div>\n",
       "<style scoped>\n",
       "    .dataframe tbody tr th:only-of-type {\n",
       "        vertical-align: middle;\n",
       "    }\n",
       "\n",
       "    .dataframe tbody tr th {\n",
       "        vertical-align: top;\n",
       "    }\n",
       "\n",
       "    .dataframe thead th {\n",
       "        text-align: right;\n",
       "    }\n",
       "</style>\n",
       "<table border=\"1\" class=\"dataframe\">\n",
       "  <thead>\n",
       "    <tr style=\"text-align: right;\">\n",
       "      <th></th>\n",
       "      <th>PC1</th>\n",
       "      <th>PC2</th>\n",
       "      <th>PC3</th>\n",
       "      <th>PC4</th>\n",
       "      <th>PC5</th>\n",
       "    </tr>\n",
       "  </thead>\n",
       "  <tbody>\n",
       "    <tr>\n",
       "      <th>0</th>\n",
       "      <td>1.503101</td>\n",
       "      <td>1.425148</td>\n",
       "      <td>-1.328903</td>\n",
       "      <td>2.213913</td>\n",
       "      <td>0.835666</td>\n",
       "    </tr>\n",
       "    <tr>\n",
       "      <th>1</th>\n",
       "      <td>3.169533</td>\n",
       "      <td>1.915105</td>\n",
       "      <td>-0.903501</td>\n",
       "      <td>1.324738</td>\n",
       "      <td>1.142895</td>\n",
       "    </tr>\n",
       "    <tr>\n",
       "      <th>2</th>\n",
       "      <td>0.018467</td>\n",
       "      <td>2.703396</td>\n",
       "      <td>1.944021</td>\n",
       "      <td>-0.255680</td>\n",
       "      <td>1.495986</td>\n",
       "    </tr>\n",
       "    <tr>\n",
       "      <th>3</th>\n",
       "      <td>0.031777</td>\n",
       "      <td>0.861620</td>\n",
       "      <td>0.045307</td>\n",
       "      <td>0.220340</td>\n",
       "      <td>0.169558</td>\n",
       "    </tr>\n",
       "    <tr>\n",
       "      <th>4</th>\n",
       "      <td>-0.725688</td>\n",
       "      <td>0.164433</td>\n",
       "      <td>-0.120884</td>\n",
       "      <td>0.751736</td>\n",
       "      <td>-0.593667</td>\n",
       "    </tr>\n",
       "  </tbody>\n",
       "</table>\n",
       "</div>"
      ],
      "text/plain": [
       "        PC1       PC2       PC3       PC4       PC5\n",
       "0  1.503101  1.425148 -1.328903  2.213913  0.835666\n",
       "1  3.169533  1.915105 -0.903501  1.324738  1.142895\n",
       "2  0.018467  2.703396  1.944021 -0.255680  1.495986\n",
       "3  0.031777  0.861620  0.045307  0.220340  0.169558\n",
       "4 -0.725688  0.164433 -0.120884  0.751736 -0.593667"
      ]
     },
     "execution_count": 54,
     "metadata": {},
     "output_type": "execute_result"
    }
   ],
   "source": [
    "pca = PCA(n_components=5)\n",
    "df_pca = pca.fit_transform(df_scale)\n",
    "df_pca = pd.DataFrame(df_pca, columns=['PC1', 'PC2', 'PC3','PC4','PC5'])\n",
    "df_pca.head()"
   ]
  },
  {
   "cell_type": "code",
   "execution_count": 55,
   "id": "63b63ee7",
   "metadata": {},
   "outputs": [],
   "source": [
    "factor_loadings = pd.DataFrame(pca.components_, columns = df.columns, index = df_pca.columns).T"
   ]
  },
  {
   "cell_type": "code",
   "execution_count": 56,
   "id": "04c766e0",
   "metadata": {},
   "outputs": [
    {
     "data": {
      "text/html": [
       "<style type=\"text/css\">\n",
       "#T_9d230_row0_col0 {\n",
       "  background-color: #94c4df;\n",
       "  color: #000000;\n",
       "}\n",
       "#T_9d230_row0_col1, #T_9d230_row1_col3, #T_9d230_row4_col4, #T_9d230_row7_col0, #T_9d230_row7_col2 {\n",
       "  background-color: #f7fbff;\n",
       "  color: #000000;\n",
       "}\n",
       "#T_9d230_row0_col2, #T_9d230_row2_col0, #T_9d230_row3_col1, #T_9d230_row3_col4, #T_9d230_row4_col0, #T_9d230_row6_col3 {\n",
       "  background-color: #08306b;\n",
       "  color: #f1f1f1;\n",
       "}\n",
       "#T_9d230_row0_col3 {\n",
       "  background-color: #75b4d8;\n",
       "  color: #000000;\n",
       "}\n",
       "#T_9d230_row0_col4 {\n",
       "  background-color: #105ba4;\n",
       "  color: #f1f1f1;\n",
       "}\n",
       "#T_9d230_row1_col0 {\n",
       "  background-color: #083776;\n",
       "  color: #f1f1f1;\n",
       "}\n",
       "#T_9d230_row1_col1 {\n",
       "  background-color: #4292c6;\n",
       "  color: #f1f1f1;\n",
       "}\n",
       "#T_9d230_row1_col2 {\n",
       "  background-color: #2474b7;\n",
       "  color: #f1f1f1;\n",
       "}\n",
       "#T_9d230_row1_col4 {\n",
       "  background-color: #d3e4f3;\n",
       "  color: #000000;\n",
       "}\n",
       "#T_9d230_row2_col1 {\n",
       "  background-color: #5aa2cf;\n",
       "  color: #f1f1f1;\n",
       "}\n",
       "#T_9d230_row2_col2 {\n",
       "  background-color: #6fb0d7;\n",
       "  color: #f1f1f1;\n",
       "}\n",
       "#T_9d230_row2_col3 {\n",
       "  background-color: #2676b8;\n",
       "  color: #f1f1f1;\n",
       "}\n",
       "#T_9d230_row2_col4 {\n",
       "  background-color: #d6e5f4;\n",
       "  color: #000000;\n",
       "}\n",
       "#T_9d230_row3_col0 {\n",
       "  background-color: #2070b4;\n",
       "  color: #f1f1f1;\n",
       "}\n",
       "#T_9d230_row3_col2 {\n",
       "  background-color: #2a7ab9;\n",
       "  color: #f1f1f1;\n",
       "}\n",
       "#T_9d230_row3_col3 {\n",
       "  background-color: #b2d2e8;\n",
       "  color: #000000;\n",
       "}\n",
       "#T_9d230_row4_col1 {\n",
       "  background-color: #4090c5;\n",
       "  color: #f1f1f1;\n",
       "}\n",
       "#T_9d230_row4_col2 {\n",
       "  background-color: #135fa7;\n",
       "  color: #f1f1f1;\n",
       "}\n",
       "#T_9d230_row4_col3 {\n",
       "  background-color: #c6dbef;\n",
       "  color: #000000;\n",
       "}\n",
       "#T_9d230_row5_col0 {\n",
       "  background-color: #08478d;\n",
       "  color: #f1f1f1;\n",
       "}\n",
       "#T_9d230_row5_col1 {\n",
       "  background-color: #b4d3e9;\n",
       "  color: #000000;\n",
       "}\n",
       "#T_9d230_row5_col2, #T_9d230_row6_col0 {\n",
       "  background-color: #084990;\n",
       "  color: #f1f1f1;\n",
       "}\n",
       "#T_9d230_row5_col3 {\n",
       "  background-color: #3080bd;\n",
       "  color: #f1f1f1;\n",
       "}\n",
       "#T_9d230_row5_col4 {\n",
       "  background-color: #d4e4f4;\n",
       "  color: #000000;\n",
       "}\n",
       "#T_9d230_row6_col1 {\n",
       "  background-color: #2d7dbb;\n",
       "  color: #f1f1f1;\n",
       "}\n",
       "#T_9d230_row6_col2 {\n",
       "  background-color: #84bcdb;\n",
       "  color: #000000;\n",
       "}\n",
       "#T_9d230_row6_col4 {\n",
       "  background-color: #74b3d8;\n",
       "  color: #000000;\n",
       "}\n",
       "#T_9d230_row7_col1 {\n",
       "  background-color: #cadef0;\n",
       "  color: #000000;\n",
       "}\n",
       "#T_9d230_row7_col3 {\n",
       "  background-color: #cddff1;\n",
       "  color: #000000;\n",
       "}\n",
       "#T_9d230_row7_col4 {\n",
       "  background-color: #7cb7da;\n",
       "  color: #000000;\n",
       "}\n",
       "</style>\n",
       "<table id=\"T_9d230\">\n",
       "  <thead>\n",
       "    <tr>\n",
       "      <th class=\"blank level0\" >&nbsp;</th>\n",
       "      <th id=\"T_9d230_level0_col0\" class=\"col_heading level0 col0\" >PC1</th>\n",
       "      <th id=\"T_9d230_level0_col1\" class=\"col_heading level0 col1\" >PC2</th>\n",
       "      <th id=\"T_9d230_level0_col2\" class=\"col_heading level0 col2\" >PC3</th>\n",
       "      <th id=\"T_9d230_level0_col3\" class=\"col_heading level0 col3\" >PC4</th>\n",
       "      <th id=\"T_9d230_level0_col4\" class=\"col_heading level0 col4\" >PC5</th>\n",
       "    </tr>\n",
       "  </thead>\n",
       "  <tbody>\n",
       "    <tr>\n",
       "      <th id=\"T_9d230_level0_row0\" class=\"row_heading level0 row0\" >Vehicle Type</th>\n",
       "      <td id=\"T_9d230_row0_col0\" class=\"data row0 col0\" >0.189185</td>\n",
       "      <td id=\"T_9d230_row0_col1\" class=\"data row0 col1\" >-0.674632</td>\n",
       "      <td id=\"T_9d230_row0_col2\" class=\"data row0 col2\" >0.347909</td>\n",
       "      <td id=\"T_9d230_row0_col3\" class=\"data row0 col3\" >-0.019261</td>\n",
       "      <td id=\"T_9d230_row0_col4\" class=\"data row0 col4\" >0.511894</td>\n",
       "    </tr>\n",
       "    <tr>\n",
       "      <th id=\"T_9d230_level0_row1\" class=\"row_heading level0 row1\" >Battery Capacity (kWh)</th>\n",
       "      <td id=\"T_9d230_row1_col0\" class=\"data row1 col0\" >0.418409</td>\n",
       "      <td id=\"T_9d230_row1_col1\" class=\"data row1 col1\" >0.054186</td>\n",
       "      <td id=\"T_9d230_row1_col2\" class=\"data row1 col2\" >0.041012</td>\n",
       "      <td id=\"T_9d230_row1_col3\" class=\"data row1 col3\" >-0.564659</td>\n",
       "      <td id=\"T_9d230_row1_col4\" class=\"data row1 col4\" >-0.174798</td>\n",
       "    </tr>\n",
       "    <tr>\n",
       "      <th id=\"T_9d230_level0_row2\" class=\"row_heading level0 row2\" >Range per Charge (km)</th>\n",
       "      <td id=\"T_9d230_row2_col0\" class=\"data row2 col0\" >0.430051</td>\n",
       "      <td id=\"T_9d230_row2_col1\" class=\"data row2 col1\" >-0.025729</td>\n",
       "      <td id=\"T_9d230_row2_col2\" class=\"data row2 col2\" >-0.240889</td>\n",
       "      <td id=\"T_9d230_row2_col3\" class=\"data row2 col3\" >0.271192</td>\n",
       "      <td id=\"T_9d230_row2_col4\" class=\"data row2 col4\" >-0.187304</td>\n",
       "    </tr>\n",
       "    <tr>\n",
       "      <th id=\"T_9d230_level0_row3\" class=\"row_heading level0 row3\" >Charging Time</th>\n",
       "      <td id=\"T_9d230_row3_col0\" class=\"data row3 col0\" >0.330682</td>\n",
       "      <td id=\"T_9d230_row3_col1\" class=\"data row3 col1\" >0.498655</td>\n",
       "      <td id=\"T_9d230_row3_col2\" class=\"data row3 col2\" >0.019901</td>\n",
       "      <td id=\"T_9d230_row3_col3\" class=\"data row3 col3\" >-0.205567</td>\n",
       "      <td id=\"T_9d230_row3_col4\" class=\"data row3 col4\" >0.687493</td>\n",
       "    </tr>\n",
       "    <tr>\n",
       "      <th id=\"T_9d230_level0_row4\" class=\"row_heading level0 row4\" >Price</th>\n",
       "      <td id=\"T_9d230_row4_col0\" class=\"data row4 col0\" >0.429481</td>\n",
       "      <td id=\"T_9d230_row4_col1\" class=\"data row4 col1\" >0.064266</td>\n",
       "      <td id=\"T_9d230_row4_col2\" class=\"data row4 col2\" >0.138934</td>\n",
       "      <td id=\"T_9d230_row4_col3\" class=\"data row4 col3\" >-0.274512</td>\n",
       "      <td id=\"T_9d230_row4_col4\" class=\"data row4 col4\" >-0.366526</td>\n",
       "    </tr>\n",
       "    <tr>\n",
       "      <th id=\"T_9d230_level0_row5\" class=\"row_heading level0 row5\" >Power (HP or kW)</th>\n",
       "      <td id=\"T_9d230_row5_col0\" class=\"data row5 col0\" >0.395473</td>\n",
       "      <td id=\"T_9d230_row5_col1\" class=\"data row5 col1\" >-0.316033</td>\n",
       "      <td id=\"T_9d230_row5_col2\" class=\"data row5 col2\" >0.238133</td>\n",
       "      <td id=\"T_9d230_row5_col3\" class=\"data row5 col3\" >0.230321</td>\n",
       "      <td id=\"T_9d230_row5_col4\" class=\"data row5 col4\" >-0.179560</td>\n",
       "    </tr>\n",
       "    <tr>\n",
       "      <th id=\"T_9d230_level0_row6\" class=\"row_heading level0 row6\" >Top Speed (km/h)</th>\n",
       "      <td id=\"T_9d230_row6_col0\" class=\"data row6 col0\" >0.391407</td>\n",
       "      <td id=\"T_9d230_row6_col1\" class=\"data row6 col1\" >0.153223</td>\n",
       "      <td id=\"T_9d230_row6_col2\" class=\"data row6 col2\" >-0.298930</td>\n",
       "      <td id=\"T_9d230_row6_col3\" class=\"data row6 col3\" >0.579953</td>\n",
       "      <td id=\"T_9d230_row6_col4\" class=\"data row6 col4\" >0.139594</td>\n",
       "    </tr>\n",
       "    <tr>\n",
       "      <th id=\"T_9d230_level0_row7\" class=\"row_heading level0 row7\" >Year of Manufacture</th>\n",
       "      <td id=\"T_9d230_row7_col0\" class=\"data row7 col0\" >0.028212</td>\n",
       "      <td id=\"T_9d230_row7_col1\" class=\"data row7 col1\" >-0.406365</td>\n",
       "      <td id=\"T_9d230_row7_col2\" class=\"data row7 col2\" >-0.808384</td>\n",
       "      <td id=\"T_9d230_row7_col3\" class=\"data row7 col3\" >-0.316601</td>\n",
       "      <td id=\"T_9d230_row7_col4\" class=\"data row7 col4\" >0.116669</td>\n",
       "    </tr>\n",
       "  </tbody>\n",
       "</table>\n"
      ],
      "text/plain": [
       "<pandas.io.formats.style.Styler at 0x7ba25ce5c190>"
      ]
     },
     "execution_count": 56,
     "metadata": {},
     "output_type": "execute_result"
    }
   ],
   "source": [
    "factor_loadings.style.background_gradient(cmap = 'Blues')"
   ]
  },
  {
   "cell_type": "code",
   "execution_count": 57,
   "id": "78c21194",
   "metadata": {},
   "outputs": [
    {
     "data": {
      "image/png": "[encoded data removed]",
      "text/plain": [
       "<Figure size 640x480 with 1 Axes>"
      ]
     },
     "metadata": {},
     "output_type": "display_data"
    }
   ],
   "source": [
    "# Calculate centroid\n",
    "index_names = factor_loadings.index\n",
    "\n",
    "# Plot data points\n",
    "sns.scatterplot(df_pca, x = 'PC1', y = 'PC2', color = 'grey')\n",
    "\n",
    "# Plot arrows from centroid to provided coordinates with index names\n",
    "for i in range(len(factor_loadings['PC1'])):\n",
    "    plt.arrow(0, 0, factor_loadings['PC1'][i] * 3.5, factor_loadings['PC2'][i] * 3.5, head_width=0.05, head_length=0.1, fc='red', ec='red')\n",
    "    plt.text((factor_loadings['PC1'][i] * 3.5), factor_loadings['PC2'][i]* 3.5, index_names[i], fontsize=12, ha='center', color = 'red', va = 'center_baseline')\n",
    "\n",
    "# Set labels and legend\n",
    "plt.xlabel('PC1')\n",
    "plt.ylabel('PC2')\n",
    "plt.title('A Principal components analysis of the EV 2-Wheeler data set')\n",
    "plt.grid(True)\n",
    "plt.savefig(\"pca_2w.png\", format = 'png')\n",
    "plt.show()"
   ]
  },
  {
   "cell_type": "code",
   "execution_count": 58,
   "id": "01451f39",
   "metadata": {},
   "outputs": [
    {
     "name": "stdout",
     "output_type": "stream",
     "text": [
      "Standard deviations:\n",
      "[2.2 1.2 1.1 0.6 0.5]\n",
      "Rotation matrix:\n",
      "                        PC1  PC2  PC3  PC4  PC5\n",
      "Vehicle Type            0.2 -0.7  0.3 -0.0  0.5\n",
      "Battery Capacity (kWh)  0.4  0.1  0.0 -0.6 -0.2\n",
      "Range per Charge (km)   0.4 -0.0 -0.2  0.3 -0.2\n",
      "Charging Time           0.3  0.5  0.0 -0.2  0.7\n",
      "Price                   0.4  0.1  0.1 -0.3 -0.4\n",
      "Power (HP or kW)        0.4 -0.3  0.2  0.2 -0.2\n",
      "Top Speed (km/h)        0.4  0.2 -0.3  0.6  0.1\n",
      "Year of Manufacture     0.0 -0.4 -0.8 -0.3  0.1\n"
     ]
    }
   ],
   "source": [
    "rotations = pca.components_.T\n",
    "\n",
    "rotations_df = pd.DataFrame(rotations, columns=[f'PC{i+1}' for i in range(rotations.shape[1])], index=df.columns[:8])\n",
    "\n",
    "rotations_df = rotations_df.round(1)\n",
    "\n",
    "std_devs = np.sqrt(pca.explained_variance_).round(1)\n",
    "\n",
    "print(\"Standard deviations:\")\n",
    "print(std_devs)\n",
    "print(\"Rotation matrix:\")\n",
    "print(rotations_df)"
   ]
  },
  {
   "cell_type": "code",
   "execution_count": 59,
   "id": "56c9cdb1",
   "metadata": {},
   "outputs": [
    {
     "name": "stderr",
     "output_type": "stream",
     "text": [
      "/home/abinas/anaconda3/lib/python3.11/site-packages/sklearn/cluster/_kmeans.py:1412: FutureWarning: The default value of `n_init` will change from 10 to 'auto' in 1.4. Set the value of `n_init` explicitly to suppress the warning\n",
      "  super()._check_params_vs_input(X, default_n_init=10)\n",
      "/home/abinas/anaconda3/lib/python3.11/site-packages/sklearn/cluster/_kmeans.py:1412: FutureWarning: The default value of `n_init` will change from 10 to 'auto' in 1.4. Set the value of `n_init` explicitly to suppress the warning\n",
      "  super()._check_params_vs_input(X, default_n_init=10)\n",
      "/home/abinas/anaconda3/lib/python3.11/site-packages/sklearn/cluster/_kmeans.py:1412: FutureWarning: The default value of `n_init` will change from 10 to 'auto' in 1.4. Set the value of `n_init` explicitly to suppress the warning\n",
      "  super()._check_params_vs_input(X, default_n_init=10)\n",
      "/home/abinas/anaconda3/lib/python3.11/site-packages/sklearn/cluster/_kmeans.py:1412: FutureWarning: The default value of `n_init` will change from 10 to 'auto' in 1.4. Set the value of `n_init` explicitly to suppress the warning\n",
      "  super()._check_params_vs_input(X, default_n_init=10)\n",
      "/home/abinas/anaconda3/lib/python3.11/site-packages/sklearn/cluster/_kmeans.py:1412: FutureWarning: The default value of `n_init` will change from 10 to 'auto' in 1.4. Set the value of `n_init` explicitly to suppress the warning\n",
      "  super()._check_params_vs_input(X, default_n_init=10)\n",
      "/home/abinas/anaconda3/lib/python3.11/site-packages/sklearn/cluster/_kmeans.py:1412: FutureWarning: The default value of `n_init` will change from 10 to 'auto' in 1.4. Set the value of `n_init` explicitly to suppress the warning\n",
      "  super()._check_params_vs_input(X, default_n_init=10)\n",
      "/home/abinas/anaconda3/lib/python3.11/site-packages/sklearn/cluster/_kmeans.py:1412: FutureWarning: The default value of `n_init` will change from 10 to 'auto' in 1.4. Set the value of `n_init` explicitly to suppress the warning\n",
      "  super()._check_params_vs_input(X, default_n_init=10)\n",
      "/home/abinas/anaconda3/lib/python3.11/site-packages/sklearn/cluster/_kmeans.py:1412: FutureWarning: The default value of `n_init` will change from 10 to 'auto' in 1.4. Set the value of `n_init` explicitly to suppress the warning\n",
      "  super()._check_params_vs_input(X, default_n_init=10)\n"
     ]
    }
   ],
   "source": [
    "df_km = [KMeans(n_clusters = k, random_state = 42).fit(df_scale) for k in range(1, 9)]"
   ]
  },
  {
   "cell_type": "code",
   "execution_count": 60,
   "id": "923fe209",
   "metadata": {},
   "outputs": [],
   "source": [
    "wcss = [model.inertia_ for model in df_km]"
   ]
  },
  {
   "cell_type": "code",
   "execution_count": 61,
   "id": "48369fde",
   "metadata": {},
   "outputs": [
    {
     "data": {
      "image/png": "[encoded data removed]",
      "text/plain": [
       "<Figure size 600x400 with 1 Axes>"
      ]
     },
     "metadata": {},
     "output_type": "display_data"
    }
   ],
   "source": [
    "fig = plt.figure(figsize = (6,4))\n",
    "sns.barplot(x = list(range(1, 9)), y = wcss, color = 'grey')\n",
    "plt.xlabel(\"Segments\")\n",
    "plt.ylabel('Sum of Within Cluster Distances')\n",
    "plt.title(\"Scree plot for the EV 2-Wheeler data set\")\n",
    "plt.savefig(\"scree_plot.png\")\n",
    "plt.show()"
   ]
  },
  {
   "cell_type": "code",
   "execution_count": 62,
   "id": "6264d572",
   "metadata": {},
   "outputs": [
    {
     "data": {
      "image/png": "[encoded data removed]",
      "text/plain": [
       "<Figure size 800x600 with 1 Axes>"
      ]
     },
     "metadata": {},
     "output_type": "display_data"
    }
   ],
   "source": [
    "plt.figure(figsize=(8,6))\n",
    "plt.title('Plot of the Elbow Method')\n",
    "plt.plot(range(1,9), wcss)\n",
    "plt.xticks(range(1,9))\n",
    "plt.yticks(family='serif')\n",
    "plt.xlabel('Number of Custers (K)')\n",
    "plt.ylabel('WCSS', family='serif')\n",
    "plt.grid()\n",
    "plt.tick_params(axis='both', direction='inout', length=6, color='purple', grid_color='lightgray', grid_linestyle='--')\n",
    "plt.show()"
   ]
  },
  {
   "cell_type": "code",
   "execution_count": 63,
   "id": "ae2f3c1a",
   "metadata": {},
   "outputs": [
    {
     "name": "stderr",
     "output_type": "stream",
     "text": [
      "/home/abinas/anaconda3/lib/python3.11/site-packages/sklearn/cluster/_kmeans.py:1412: FutureWarning: The default value of `n_init` will change from 10 to 'auto' in 1.4. Set the value of `n_init` explicitly to suppress the warning\n",
      "  super()._check_params_vs_input(X, default_n_init=10)\n"
     ]
    },
    {
     "data": {
      "text/html": [
       "<style>#sk-container-id-1 {color: black;}#sk-container-id-1 pre{padding: 0;}#sk-container-id-1 div.sk-toggleable {background-color: white;}#sk-container-id-1 label.sk-toggleable__label {cursor: pointer;display: block;width: 100%;margin-bottom: 0;padding: 0.3em;box-sizing: border-box;text-align: center;}#sk-container-id-1 label.sk-toggleable__label-arrow:before {content: \"▸\";float: left;margin-right: 0.25em;color: #696969;}#sk-container-id-1 label.sk-toggleable__label-arrow:hover:before {color: black;}#sk-container-id-1 div.sk-estimator:hover label.sk-toggleable__label-arrow:before {color: black;}#sk-container-id-1 div.sk-toggleable__content {max-height: 0;max-width: 0;overflow: hidden;text-align: left;background-color: #f0f8ff;}#sk-container-id-1 div.sk-toggleable__content pre {margin: 0.2em;color: black;border-radius: 0.25em;background-color: #f0f8ff;}#sk-container-id-1 input.sk-toggleable__control:checked~div.sk-toggleable__content {max-height: 200px;max-width: 100%;overflow: auto;}#sk-container-id-1 input.sk-toggleable__control:checked~label.sk-toggleable__label-arrow:before {content: \"▾\";}#sk-container-id-1 div.sk-estimator input.sk-toggleable__control:checked~label.sk-toggleable__label {background-color: #d4ebff;}#sk-container-id-1 div.sk-label input.sk-toggleable__control:checked~label.sk-toggleable__label {background-color: #d4ebff;}#sk-container-id-1 input.sk-hidden--visually {border: 0;clip: rect(1px 1px 1px 1px);clip: rect(1px, 1px, 1px, 1px);height: 1px;margin: -1px;overflow: hidden;padding: 0;position: absolute;width: 1px;}#sk-container-id-1 div.sk-estimator {font-family: monospace;background-color: #f0f8ff;border: 1px dotted black;border-radius: 0.25em;box-sizing: border-box;margin-bottom: 0.5em;}#sk-container-id-1 div.sk-estimator:hover {background-color: #d4ebff;}#sk-container-id-1 div.sk-parallel-item::after {content: \"\";width: 100%;border-bottom: 1px solid gray;flex-grow: 1;}#sk-container-id-1 div.sk-label:hover label.sk-toggleable__label {background-color: #d4ebff;}#sk-container-id-1 div.sk-serial::before {content: \"\";position: absolute;border-left: 1px solid gray;box-sizing: border-box;top: 0;bottom: 0;left: 50%;z-index: 0;}#sk-container-id-1 div.sk-serial {display: flex;flex-direction: column;align-items: center;background-color: white;padding-right: 0.2em;padding-left: 0.2em;position: relative;}#sk-container-id-1 div.sk-item {position: relative;z-index: 1;}#sk-container-id-1 div.sk-parallel {display: flex;align-items: stretch;justify-content: center;background-color: white;position: relative;}#sk-container-id-1 div.sk-item::before, #sk-container-id-1 div.sk-parallel-item::before {content: \"\";position: absolute;border-left: 1px solid gray;box-sizing: border-box;top: 0;bottom: 0;left: 50%;z-index: -1;}#sk-container-id-1 div.sk-parallel-item {display: flex;flex-direction: column;z-index: 1;position: relative;background-color: white;}#sk-container-id-1 div.sk-parallel-item:first-child::after {align-self: flex-end;width: 50%;}#sk-container-id-1 div.sk-parallel-item:last-child::after {align-self: flex-start;width: 50%;}#sk-container-id-1 div.sk-parallel-item:only-child::after {width: 0;}#sk-container-id-1 div.sk-dashed-wrapped {border: 1px dashed gray;margin: 0 0.4em 0.5em 0.4em;box-sizing: border-box;padding-bottom: 0.4em;background-color: white;}#sk-container-id-1 div.sk-label label {font-family: monospace;font-weight: bold;display: inline-block;line-height: 1.2em;}#sk-container-id-1 div.sk-label-container {text-align: center;}#sk-container-id-1 div.sk-container {/* jupyter's `normalize.less` sets `[hidden] { display: none; }` but bootstrap.min.css set `[hidden] { display: none !important; }` so we also need the `!important` here to be able to override the default hidden behavior on the sphinx rendered scikit-learn.org. See: https://github.com/scikit-learn/scikit-learn/issues/21755 */display: inline-block !important;position: relative;}#sk-container-id-1 div.sk-text-repr-fallback {display: none;}</style><div id=\"sk-container-id-1\" class=\"sk-top-container\"><div class=\"sk-text-repr-fallback\"><pre>KMeans(n_clusters=3, random_state=42)</pre><b>In a Jupyter environment, please rerun this cell to show the HTML representation or trust the notebook. <br />On GitHub, the HTML representation is unable to render, please try loading this page with nbviewer.org.</b></div><div class=\"sk-container\" hidden><div class=\"sk-item\"><div class=\"sk-estimator sk-toggleable\"><input class=\"sk-toggleable__control sk-hidden--visually\" id=\"sk-estimator-id-1\" type=\"checkbox\" checked><label for=\"sk-estimator-id-1\" class=\"sk-toggleable__label sk-toggleable__label-arrow\">KMeans</label><div class=\"sk-toggleable__content\"><pre>KMeans(n_clusters=3, random_state=42)</pre></div></div></div></div></div>"
      ],
      "text/plain": [
       "KMeans(n_clusters=3, random_state=42)"
      ]
     },
     "execution_count": 63,
     "metadata": {},
     "output_type": "execute_result"
    }
   ],
   "source": [
    "kmean = KMeans(n_clusters=3, init='k-means++', random_state=42)\n",
    "kmean.fit(df_pca)"
   ]
  },
  {
   "cell_type": "code",
   "execution_count": 64,
   "id": "3bacb37c",
   "metadata": {},
   "outputs": [
    {
     "name": "stdout",
     "output_type": "stream",
     "text": [
      "[1 1 1 1 1 1 2 2 0 0 1 1 1 2 2 0 0 1 1 2 2 0 1 2 2 2 1 1 2 0 1 1 2 2 2 1 2\n",
      " 1 1 2 0 1 1 2 2 1 1 1 1 1 2 2]\n"
     ]
    }
   ],
   "source": [
    "print(kmean.labels_)"
   ]
  },
  {
   "cell_type": "code",
   "execution_count": 65,
   "id": "6443f77a",
   "metadata": {},
   "outputs": [
    {
     "data": {
      "text/plain": [
       "1    26\n",
       "2    19\n",
       "0     7\n",
       "Name: count, dtype: int64"
      ]
     },
     "execution_count": 65,
     "metadata": {},
     "output_type": "execute_result"
    }
   ],
   "source": [
    "pd.Series(kmean.labels_).value_counts()"
   ]
  },
  {
   "cell_type": "code",
   "execution_count": 66,
   "id": "1fda7bb9",
   "metadata": {},
   "outputs": [],
   "source": [
    "df1['clusters'] = kmean.labels_"
   ]
  },
  {
   "cell_type": "code",
   "execution_count": 67,
   "id": "3724a147",
   "metadata": {},
   "outputs": [
    {
     "data": {
      "image/png": "[encoded data removed]",
      "text/plain": [
       "<Figure size 700x500 with 1 Axes>"
      ]
     },
     "metadata": {},
     "output_type": "display_data"
    }
   ],
   "source": [
    "plt.figure(figsize=(7,5))\n",
    "sns.scatterplot(data=df_pca, x='PC1', y='PC2', s=70, hue=kmean.labels_, palette='viridis', zorder=2, alpha=.9)\n",
    "plt.scatter(x=kmean.cluster_centers_[:,0], y=kmean.cluster_centers_[:,1], marker=\"*\", c=\"r\", s=80, label=\"centroids\")\n",
    "plt.xlabel('PC1')\n",
    "plt.ylabel('PC2')\n",
    "plt.grid(True)\n",
    "plt.tick_params(grid_color='lightgray', grid_linestyle='--', zorder=1)\n",
    "plt.title('K-Means Clustering Results on 2 Wheeler Data')\n",
    "plt.show()"
   ]
  },
  {
   "cell_type": "markdown",
   "id": "b92d4149",
   "metadata": {},
   "source": [
    "# Prediction"
   ]
  },
  {
   "cell_type": "code",
   "execution_count": 68,
   "id": "461083b2",
   "metadata": {},
   "outputs": [],
   "source": [
    "Cluster_0=df1[df1.clusters==0]\n",
    "Cluster_1=df1[df1.clusters==1]\n",
    "Cluster_2=df1[df1.clusters==2]"
   ]
  },
  {
   "cell_type": "code",
   "execution_count": 69,
   "id": "7d6c2d60",
   "metadata": {},
   "outputs": [
    {
     "data": {
      "text/plain": [
       "[Manufacturer\n",
       " Revolt Motors    4\n",
       " Tork Motors      3\n",
       " Name: count, dtype: int64,\n",
       " Manufacturer\n",
       " Ather Energy    8\n",
       " Pure EV         8\n",
       " Bajaj Auto      5\n",
       " Ola             2\n",
       " TVS             1\n",
       " Name: count, dtype: int64,\n",
       " Manufacturer\n",
       " Okinawa Autotech        8\n",
       " Electric Vehicle Co.    5\n",
       " Hero Motocorp           3\n",
       " Ampere Vehicles         2\n",
       " Joy E-Bike              1\n",
       " Name: count, dtype: int64]"
      ]
     },
     "execution_count": 69,
     "metadata": {},
     "output_type": "execute_result"
    }
   ],
   "source": [
    "[Cluster_0[\"Manufacturer\"].value_counts().head(),\n",
    "Cluster_1[\"Manufacturer\"].value_counts().head(),\n",
    "Cluster_2[\"Manufacturer\"].value_counts().head()]"
   ]
  },
  {
   "cell_type": "code",
   "execution_count": 70,
   "id": "05bc0463",
   "metadata": {},
   "outputs": [
    {
     "data": {
      "text/plain": [
       "[Charging Time\n",
       " 4.0    4\n",
       " 5.0    3\n",
       " Name: count, dtype: int64,\n",
       " Charging Time\n",
       " 4.5    6\n",
       " 3.0    6\n",
       " 5.0    5\n",
       " 6.5    2\n",
       " 5.5    2\n",
       " Name: count, dtype: int64,\n",
       " Charging Time\n",
       " 3.0    13\n",
       " 2.5     4\n",
       " 3.5     2\n",
       " Name: count, dtype: int64]"
      ]
     },
     "execution_count": 70,
     "metadata": {},
     "output_type": "execute_result"
    }
   ],
   "source": [
    "[Cluster_0[\"Charging Time\"].value_counts().head(),\n",
    "Cluster_1[\"Charging Time\"].value_counts().head(),\n",
    "Cluster_2[\"Charging Time\"].value_counts().head()]"
   ]
  },
  {
   "cell_type": "code",
   "execution_count": 71,
   "id": "6159a022",
   "metadata": {},
   "outputs": [
    {
     "data": {
      "text/plain": [
       "[Vehicle Type\n",
       " 1    7\n",
       " Name: count, dtype: int64,\n",
       " Vehicle Type\n",
       " 0    26\n",
       " Name: count, dtype: int64,\n",
       " Vehicle Type\n",
       " 0    15\n",
       " 1     4\n",
       " Name: count, dtype: int64]"
      ]
     },
     "execution_count": 71,
     "metadata": {},
     "output_type": "execute_result"
    }
   ],
   "source": [
    "[Cluster_0[\"Vehicle Type\"].value_counts().head(),\n",
    "Cluster_1[\"Vehicle Type\"].value_counts().head(),\n",
    "Cluster_2[\"Vehicle Type\"].value_counts().head()]\n",
    "#0>scooter 1>bike"
   ]
  },
  {
   "cell_type": "code",
   "execution_count": 72,
   "id": "bab4a10b",
   "metadata": {},
   "outputs": [
    {
     "data": {
      "text/plain": [
       "[Range per Charge (km)\n",
       " 150    4\n",
       " 200    3\n",
       " Name: count, dtype: int64,\n",
       " Range per Charge (km)\n",
       " 120    7\n",
       " 116    6\n",
       " 181    2\n",
       " 95     2\n",
       " 146    2\n",
       " Name: count, dtype: int64,\n",
       " Range per Charge (km)\n",
       " 100    10\n",
       " 75      3\n",
       " 80      2\n",
       " 120     2\n",
       " 90      1\n",
       " Name: count, dtype: int64]"
      ]
     },
     "execution_count": 72,
     "metadata": {},
     "output_type": "execute_result"
    }
   ],
   "source": [
    "[Cluster_0[\"Range per Charge (km)\"].value_counts().head(),\n",
    "Cluster_1[\"Range per Charge (km)\"].value_counts().head(),\n",
    "Cluster_2[\"Range per Charge (km)\"].value_counts().head()]"
   ]
  },
  {
   "cell_type": "code",
   "execution_count": 73,
   "id": "1e75776d",
   "metadata": {},
   "outputs": [
    {
     "data": {
      "text/plain": [
       "[Price\n",
       " 250000.0    3\n",
       " 150000.0    3\n",
       " 155000.0    1\n",
       " Name: count, dtype: int64,\n",
       " Price\n",
       " 109000.0    6\n",
       " 149000.0    5\n",
       " 150000.0    2\n",
       " 145000.0    2\n",
       " 165000.0    2\n",
       " Name: count, dtype: int64,\n",
       " Price\n",
       " 85000.0    6\n",
       " 75000.0    6\n",
       " 80000.0    2\n",
       " 60000.0    2\n",
       " 95000.0    2\n",
       " Name: count, dtype: int64]"
      ]
     },
     "execution_count": 73,
     "metadata": {},
     "output_type": "execute_result"
    }
   ],
   "source": [
    "[Cluster_0[\"Price\"].value_counts().head(),\n",
    "Cluster_1[\"Price\"].value_counts().head(),\n",
    "Cluster_2[\"Price\"].value_counts().head()]"
   ]
  },
  {
   "cell_type": "code",
   "execution_count": 74,
   "id": "9e041bbd",
   "metadata": {},
   "outputs": [
    {
     "data": {
      "text/plain": [
       "[Top Speed (km/h)\n",
       " 85.0     4\n",
       " 100.0    3\n",
       " Name: count, dtype: int64,\n",
       " Top Speed (km/h)\n",
       " 80.0     15\n",
       " 90.0      3\n",
       " 116.0     2\n",
       " 60.0      2\n",
       " 85.0      2\n",
       " Name: count, dtype: int64,\n",
       " Top Speed (km/h)\n",
       " 60.0    14\n",
       " 50.0     2\n",
       " 70.0     2\n",
       " 65.0     1\n",
       " Name: count, dtype: int64]"
      ]
     },
     "execution_count": 74,
     "metadata": {},
     "output_type": "execute_result"
    }
   ],
   "source": [
    "[Cluster_0[\"Top Speed (km/h)\"].value_counts().head(),\n",
    "Cluster_1[\"Top Speed (km/h)\"].value_counts().head(),\n",
    "Cluster_2[\"Top Speed (km/h)\"].value_counts().head()]"
   ]
  },
  {
   "cell_type": "code",
   "execution_count": 75,
   "id": "b09048cb",
   "metadata": {},
   "outputs": [
    {
     "data": {
      "text/plain": [
       "[Battery Capacity (kWh)\n",
       " 3.2    4\n",
       " 6.2    3\n",
       " Name: count, dtype: int64,\n",
       " Battery Capacity (kWh)\n",
       " 4.00    7\n",
       " 2.90    6\n",
       " 2.70    6\n",
       " 3.50    3\n",
       " 2.98    1\n",
       " Name: count, dtype: int64,\n",
       " Battery Capacity (kWh)\n",
       " 2.5    8\n",
       " 2.2    5\n",
       " 3.0    4\n",
       " 2.8    1\n",
       " 2.9    1\n",
       " Name: count, dtype: int64]"
      ]
     },
     "execution_count": 75,
     "metadata": {},
     "output_type": "execute_result"
    }
   ],
   "source": [
    "[Cluster_0[\"Battery Capacity (kWh)\"].value_counts().head(),\n",
    "Cluster_1[\"Battery Capacity (kWh)\"].value_counts().head(),\n",
    "Cluster_2[\"Battery Capacity (kWh)\"].value_counts().head()]"
   ]
  }
 ],
 "metadata": {
  "kernelspec": {
   "display_name": "Python 3 (ipykernel)",
   "language": "python",
   "name": "python3"
  },
  "language_info": {
   "codemirror_mode": {
    "name": "ipython",
    "version": 3
   },
   "file_extension": ".py",
   "mimetype": "text/x-python",
   "name": "python",
   "nbconvert_exporter": "python",
   "pygments_lexer": "ipython3",
   "version": "3.11.5"
  }
 },
 "nbformat": 4,
 "nbformat_minor": 5
}
